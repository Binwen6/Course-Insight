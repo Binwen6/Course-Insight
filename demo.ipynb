{
 "cells": [
  {
   "cell_type": "markdown",
   "metadata": {},
   "source": [
    "Fisher感知机算法"
   ]
  },
  {
   "cell_type": "code",
   "execution_count": 10,
   "metadata": {},
   "outputs": [
    {
     "name": "stdout",
     "output_type": "stream",
     "text": [
      "Predictions: [ 1  1  1 -1 -1 -1 -1 -1]\n"
     ]
    },
    {
     "data": {
      "image/png": "[encoded data removed]",
      "text/plain": [
       "<Figure size 640x480 with 1 Axes>"
      ]
     },
     "metadata": {},
     "output_type": "display_data"
    }
   ],
   "source": [
    "import numpy as np\n",
    "import matplotlib.pyplot as plt\n",
    "from sklearn.preprocessing import StandardScaler\n",
    "\n",
    "class Perceptron:\n",
    "    def __init__(self, learning_rate=0.01, n_iters=1000):\n",
    "        self.learning_rate = learning_rate\n",
    "        self.n_iters = n_iters\n",
    "        self.activation_func = self._unit_step_func\n",
    "        self.weights = None\n",
    "        self.bias = None\n",
    "\n",
    "    def fit(self, X, y):\n",
    "        n_samples, n_features = X.shape\n",
    "        self.weights = np.zeros(n_features)\n",
    "        self.bias = 0\n",
    "\n",
    "        y_ = np.where(y <= 0, -1, 1)\n",
    "\n",
    "        for _ in range(self.n_iters):\n",
    "            for idx, x_i in enumerate(X):\n",
    "                linear_output = np.dot(x_i, self.weights) + self.bias\n",
    "                y_predicted = self.activation_func(linear_output)\n",
    "\n",
    "                update = self.learning_rate * (y_[idx] - y_predicted)\n",
    "                self.weights += update * x_i\n",
    "                self.bias += update\n",
    "\n",
    "    def predict(self, X):\n",
    "        linear_output = np.dot(X, self.weights) + self.bias\n",
    "        y_predicted = self.activation_func(linear_output)\n",
    "        return y_predicted\n",
    "\n",
    "    def _unit_step_func(self, x):\n",
    "        return np.where(x >= 0, 1, -1)\n",
    "\n",
    "# 创建一个简单的数据集\n",
    "def create_dataset():\n",
    "    X = np.array([\n",
    "        [2, 3],\n",
    "        [1, 1],\n",
    "        [2, 1],\n",
    "        [5, 3],\n",
    "        [4, 2],\n",
    "        [3, 6],\n",
    "        [4, 5],\n",
    "        [3, 4],\n",
    "    ])\n",
    "    y = np.array([1, 1, 1, -1, -1, -1, -1, -1])\n",
    "    return X, y\n",
    "\n",
    "# 数据集\n",
    "X, y = create_dataset()\n",
    "\n",
    "# 标准化数据\n",
    "scaler = StandardScaler()\n",
    "X = scaler.fit_transform(X)\n",
    "\n",
    "# 训练感知机模型\n",
    "perceptron = Perceptron(learning_rate=0.1, n_iters=100)\n",
    "perceptron.fit(X, y)\n",
    "\n",
    "# 预测\n",
    "predictions = perceptron.predict(X)\n",
    "print(\"Predictions:\", predictions)\n",
    "\n",
    "# 可视化\n",
    "def plot_decision_boundary(X, y, model):\n",
    "    x0_min, x0_max = X[:, 0].min() - 1, X[:, 0].max() + 1\n",
    "    x1_min, x1_max = X[:, 1].min() - 1, X[:, 1].max() + 1\n",
    "    xx0, xx1 = np.meshgrid(np.arange(x0_min, x0_max, 0.01), np.arange(x1_min, x1_max, 0.01))\n",
    "    grid = np.c_[xx0.ravel(), xx1.ravel()]\n",
    "    Z = model.predict(grid)\n",
    "    Z = Z.reshape(xx0.shape)\n",
    "\n",
    "    plt.contourf(xx0, xx1, Z, alpha=0.3)\n",
    "    plt.scatter(X[:, 0], X[:, 1], c=y, edgecolor='k', marker='o')\n",
    "    plt.xlabel('Feature 1')\n",
    "    plt.ylabel('Feature 2')\n",
    "    plt.title('Perceptron Algorithm Decision Boundary')\n",
    "    plt.show()\n",
    "\n",
    "# 画出决策边界\n",
    "plot_decision_boundary(X, y, perceptron)\n"
   ]
  }
 ],
 "metadata": {
  "kernelspec": {
   "display_name": "pyTorchgpuEnv",
   "language": "python",
   "name": "python3"
  },
  "language_info": {
   "codemirror_mode": {
    "name": "ipython",
    "version": 3
   },
   "file_extension": ".py",
   "mimetype": "text/x-python",
   "name": "python",
   "nbconvert_exporter": "python",
   "pygments_lexer": "ipython3",
   "version": "3.11.7"
  }
 },
 "nbformat": 4,
 "nbformat_minor": 2
}
